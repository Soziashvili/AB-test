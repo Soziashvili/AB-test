{
 "cells": [
  {
   "cell_type": "markdown",
   "id": "bb9736ca",
   "metadata": {},
   "source": [
    "## A/B тест алгоритма приложения для курьеров"
   ]
  },
  {
   "cell_type": "markdown",
   "id": "b2ae48a6",
   "metadata": {},
   "source": [
    "Представьте, что вы работаете аналитиком в очень крупной компании по доставке пиццы над приложением для курьеров (да, обычно в таких компаниях есть приложение для курьеров и отдельно приложение для потребителей).\n",
    "\n",
    "У вас есть несколько ресторанов в разных частях города и целый штат курьеров. Но есть одна проблема — к вечеру скорость доставки падает из-за того, что курьеры уходят домой после рабочего дня, а количество заказов лишь растет. Это приводит к тому, что в момент пересмены наша доставка очень сильно проседает в эффективности. \n",
    "\n",
    "Наши data scientist-ы придумали новый алгоритм, который позволяет курьерам запланировать свои последние заказы перед окончанием рабочего дня так, чтобы их маршрут доставки совпадал с маршрутом до дома. То есть, чтобы курьеры доставляли последние свои заказы за день как бы \"по пути\" домой. \n",
    "\n",
    "Вы вместе с командой решили раскатить A/B тест на две равные группы курьеров. Часть курьеров использует старый алгоритм без опции \"по пути\", другие видят в своем приложении эту опцию и могут ее выбрать. Ваша задача – проанализировать данные эксперимента и помочь бизнесу принять решение о раскатке новой фичи на всех курьеров."
   ]
  },
  {
   "cell_type": "markdown",
   "id": "4ac532e6",
   "metadata": {},
   "source": [
    "#### Описание данных\n",
    "* order_id - id заказа\n",
    "* delivery_time - время доставки в минутах\n",
    "* district - район доставки\n",
    "* experiment_group - экспериментальная группа"
   ]
  },
  {
   "cell_type": "markdown",
   "id": "179eb90f",
   "metadata": {},
   "source": [
    "##### Сформулируем статистические гипотезы, которые мы сможем проверить в этом эксперименте:\n",
    "* Нулевая гипотеза (H0): Разницы между средним временем доставки в тестовой и контрольной группе нет\n",
    "* Альтернативная гипотеза (H1): Разница между средним временем доставки в тестовой и контрольной группе есть"
   ]
  },
  {
   "cell_type": "code",
   "execution_count": 2,
   "id": "52b8533f",
   "metadata": {},
   "outputs": [],
   "source": [
    "import pandas as pd\n",
    "import numpy as np\n",
    "import seaborn as sns\n",
    "import matplotlib.pyplot as plt\n",
    "%matplotlib inline"
   ]
  },
  {
   "cell_type": "code",
   "execution_count": 3,
   "id": "180ca5c9",
   "metadata": {},
   "outputs": [],
   "source": [
    "df = pd.read_csv('experiment_lesson_4.csv')"
   ]
  },
  {
   "cell_type": "code",
   "execution_count": 4,
   "id": "78803eae",
   "metadata": {},
   "outputs": [
    {
     "data": {
      "text/html": [
       "<div>\n",
       "<style scoped>\n",
       "    .dataframe tbody tr th:only-of-type {\n",
       "        vertical-align: middle;\n",
       "    }\n",
       "\n",
       "    .dataframe tbody tr th {\n",
       "        vertical-align: top;\n",
       "    }\n",
       "\n",
       "    .dataframe thead th {\n",
       "        text-align: right;\n",
       "    }\n",
       "</style>\n",
       "<table border=\"1\" class=\"dataframe\">\n",
       "  <thead>\n",
       "    <tr style=\"text-align: right;\">\n",
       "      <th></th>\n",
       "      <th>order_id</th>\n",
       "      <th>delivery_time</th>\n",
       "      <th>district</th>\n",
       "      <th>experiment_group</th>\n",
       "    </tr>\n",
       "  </thead>\n",
       "  <tbody>\n",
       "    <tr>\n",
       "      <th>0</th>\n",
       "      <td>3159</td>\n",
       "      <td>44.0</td>\n",
       "      <td>Purlieus</td>\n",
       "      <td>control</td>\n",
       "    </tr>\n",
       "    <tr>\n",
       "      <th>1</th>\n",
       "      <td>10426</td>\n",
       "      <td>51.0</td>\n",
       "      <td>Purlieus</td>\n",
       "      <td>control</td>\n",
       "    </tr>\n",
       "    <tr>\n",
       "      <th>2</th>\n",
       "      <td>9155</td>\n",
       "      <td>46.0</td>\n",
       "      <td>Purlieus</td>\n",
       "      <td>control</td>\n",
       "    </tr>\n",
       "    <tr>\n",
       "      <th>3</th>\n",
       "      <td>10699</td>\n",
       "      <td>34.0</td>\n",
       "      <td>Purlieus</td>\n",
       "      <td>control</td>\n",
       "    </tr>\n",
       "    <tr>\n",
       "      <th>4</th>\n",
       "      <td>10061</td>\n",
       "      <td>43.0</td>\n",
       "      <td>Purlieus</td>\n",
       "      <td>control</td>\n",
       "    </tr>\n",
       "  </tbody>\n",
       "</table>\n",
       "</div>"
      ],
      "text/plain": [
       "   order_id  delivery_time  district experiment_group\n",
       "0      3159           44.0  Purlieus          control\n",
       "1     10426           51.0  Purlieus          control\n",
       "2      9155           46.0  Purlieus          control\n",
       "3     10699           34.0  Purlieus          control\n",
       "4     10061           43.0  Purlieus          control"
      ]
     },
     "execution_count": 4,
     "metadata": {},
     "output_type": "execute_result"
    }
   ],
   "source": [
    "df.head()"
   ]
  },
  {
   "cell_type": "code",
   "execution_count": 5,
   "id": "20059b95",
   "metadata": {},
   "outputs": [
    {
     "data": {
      "text/plain": [
       "order_id            0\n",
       "delivery_time       0\n",
       "district            0\n",
       "experiment_group    0\n",
       "dtype: int64"
      ]
     },
     "execution_count": 5,
     "metadata": {},
     "output_type": "execute_result"
    }
   ],
   "source": [
    "df.isna().sum()"
   ]
  },
  {
   "cell_type": "markdown",
   "id": "b00e0e9c",
   "metadata": {},
   "source": [
    "Разделим датафрейм на тестовую и контрольную группы"
   ]
  },
  {
   "cell_type": "code",
   "execution_count": 6,
   "id": "1760bd9a",
   "metadata": {},
   "outputs": [],
   "source": [
    "df_control = df \\\n",
    "    .query('experiment_group == \"control\"') \\\n",
    "    .groupby(['order_id', 'district'], as_index=False) \\\n",
    "    .agg({'delivery_time': 'mean'})\n",
    "df_test = df \\\n",
    "    .query('experiment_group == \"test\"') \\\n",
    "    .groupby(['order_id', 'district'], as_index=False) \\\n",
    "    .agg({'delivery_time': 'mean'})"
   ]
  },
  {
   "cell_type": "markdown",
   "id": "d5463c48",
   "metadata": {},
   "source": [
    "График распределения времени доставки в контрольной группе"
   ]
  },
  {
   "cell_type": "code",
   "execution_count": 7,
   "id": "2b18f324",
   "metadata": {
    "scrolled": true
   },
   "outputs": [
    {
     "data": {
      "text/plain": [
       "<seaborn.axisgrid.FacetGrid at 0x1c410c4ba90>"
      ]
     },
     "execution_count": 7,
     "metadata": {},
     "output_type": "execute_result"
    },
    {
     "data": {
      "image/png": "[encoded data removed]",
      "text/plain": [
       "<Figure size 605.375x500 with 1 Axes>"
      ]
     },
     "metadata": {},
     "output_type": "display_data"
    }
   ],
   "source": [
    "sns.displot(data=df_control, x='delivery_time', hue='district')"
   ]
  },
  {
   "cell_type": "markdown",
   "id": "67c44d13",
   "metadata": {},
   "source": [
    "График распределения времени доставки в тестовой группе"
   ]
  },
  {
   "cell_type": "code",
   "execution_count": 8,
   "id": "aab59fcb",
   "metadata": {
    "scrolled": true
   },
   "outputs": [
    {
     "data": {
      "text/plain": [
       "<seaborn.axisgrid.FacetGrid at 0x1c415a8d550>"
      ]
     },
     "execution_count": 8,
     "metadata": {},
     "output_type": "execute_result"
    },
    {
     "data": {
      "image/png": "[encoded data removed]",
      "text/plain": [
       "<Figure size 605.375x500 with 1 Axes>"
      ]
     },
     "metadata": {},
     "output_type": "display_data"
    }
   ],
   "source": [
    "sns.displot(data=df_test, x='delivery_time', hue='district')"
   ]
  },
  {
   "cell_type": "markdown",
   "id": "5638da08",
   "metadata": {},
   "source": [
    "Количество наблюдений в тестовой и контрольной группах"
   ]
  },
  {
   "cell_type": "code",
   "execution_count": 9,
   "id": "9d7e5672",
   "metadata": {},
   "outputs": [
    {
     "data": {
      "text/plain": [
       "experiment_group\n",
       "control    10092\n",
       "test       10104\n",
       "Name: order_id, dtype: int64"
      ]
     },
     "execution_count": 9,
     "metadata": {},
     "output_type": "execute_result"
    }
   ],
   "source": [
    "df.groupby('experiment_group').order_id.count()"
   ]
  },
  {
   "cell_type": "markdown",
   "id": "790c53b5",
   "metadata": {},
   "source": [
    "Проверим выполнение условий на нормальность и посчитаем стандартное отклонение в тесте и в контроле.\n",
    "Перед применением критерия при проверке на нормальность (и для теста, и для контроля) произведем семплирование, так как на больших выборках мы можем получать неверные результаты."
   ]
  },
  {
   "cell_type": "code",
   "execution_count": 10,
   "id": "dba29b53",
   "metadata": {},
   "outputs": [],
   "source": [
    "control_sample = df[df['experiment_group'] == 'control']['delivery_time'].sample(1000, random_state=17)\n",
    "test_sample = df[df['experiment_group'] == 'test']['delivery_time'].sample(1000, random_state=17)"
   ]
  },
  {
   "cell_type": "code",
   "execution_count": 11,
   "id": "357334e2",
   "metadata": {},
   "outputs": [
    {
     "data": {
      "text/plain": [
       "9.990016960247171"
      ]
     },
     "execution_count": 11,
     "metadata": {},
     "output_type": "execute_result"
    }
   ],
   "source": [
    "df.query('experiment_group == \"control\"').delivery_time.std()"
   ]
  },
  {
   "cell_type": "code",
   "execution_count": 12,
   "id": "a000dc0d",
   "metadata": {},
   "outputs": [
    {
     "data": {
      "text/plain": [
       "9.883308351129031"
      ]
     },
     "execution_count": 12,
     "metadata": {},
     "output_type": "execute_result"
    }
   ],
   "source": [
    "df.query('experiment_group == \"test\"').delivery_time.std()"
   ]
  },
  {
   "cell_type": "markdown",
   "id": "56705d1b",
   "metadata": {},
   "source": [
    "Стандартное отклонение времени доставки в тесте равно 9.88. Стандартное отклонение времени доставки в контроле равно 9.99."
   ]
  },
  {
   "cell_type": "markdown",
   "id": "2aa00b83",
   "metadata": {},
   "source": [
    "Для проверки нормальности распределения используем Shapiro-Wilk test."
   ]
  },
  {
   "cell_type": "code",
   "execution_count": 13,
   "id": "4552c528",
   "metadata": {},
   "outputs": [
    {
     "data": {
      "text/plain": [
       "ShapiroResult(statistic=0.9974724054336548, pvalue=0.12408281117677689)"
      ]
     },
     "execution_count": 13,
     "metadata": {},
     "output_type": "execute_result"
    }
   ],
   "source": [
    "from scipy import stats\n",
    "stats.shapiro(control_sample)\n"
   ]
  },
  {
   "cell_type": "code",
   "execution_count": 14,
   "id": "fe11df41",
   "metadata": {},
   "outputs": [
    {
     "data": {
      "text/plain": [
       "ShapiroResult(statistic=0.9975473880767822, pvalue=0.14001426100730896)"
      ]
     },
     "execution_count": 14,
     "metadata": {},
     "output_type": "execute_result"
    }
   ],
   "source": [
    "stats.shapiro(test_sample)"
   ]
  },
  {
   "cell_type": "markdown",
   "id": "b50f3235",
   "metadata": {},
   "source": [
    " Тест показывает, что значения в тестовой и контрольной группах распределены нормально."
   ]
  },
  {
   "cell_type": "code",
   "execution_count": 16,
   "id": "67ad95fa",
   "metadata": {},
   "outputs": [],
   "source": [
    "df_control = df.query('experiment_group == \"control\"').delivery_time"
   ]
  },
  {
   "cell_type": "code",
   "execution_count": 17,
   "id": "98bd31e1",
   "metadata": {},
   "outputs": [],
   "source": [
    "df_test = df.query('experiment_group == \"test\"').delivery_time"
   ]
  },
  {
   "cell_type": "markdown",
   "id": "7056b767",
   "metadata": {},
   "source": [
    "Для сравнения средних в данных экспериментальных группах используем t-test Student's"
   ]
  },
  {
   "cell_type": "code",
   "execution_count": 18,
   "id": "85672394",
   "metadata": {},
   "outputs": [
    {
     "data": {
      "text/plain": [
       "Ttest_indResult(statistic=-43.03582663183714, pvalue=0.0)"
      ]
     },
     "execution_count": 18,
     "metadata": {},
     "output_type": "execute_result"
    }
   ],
   "source": [
    "stats.ttest_ind(df_test, df_control)"
   ]
  },
  {
   "cell_type": "markdown",
   "id": "07b8d8ce",
   "metadata": {},
   "source": [
    "Так как p-value < 0.05, мы можем говорить о статистически важных различиях времени доставки в экспериментальных группах."
   ]
  },
  {
   "cell_type": "code",
   "execution_count": 20,
   "id": "04fc01f3",
   "metadata": {},
   "outputs": [
    {
     "data": {
      "text/plain": [
       "-13.354653121660812"
      ]
     },
     "execution_count": 20,
     "metadata": {},
     "output_type": "execute_result"
    }
   ],
   "source": [
    "((df_test.mean() - df_control.mean()) / df_control.mean()) * 100"
   ]
  },
  {
   "cell_type": "markdown",
   "id": "23291ba8",
   "metadata": {},
   "source": [
    "Среднее время доставки в тестовой группе по сравнению с контрольной уменьшилось в среднем на 13%. "
   ]
  },
  {
   "cell_type": "markdown",
   "id": "cbd2576a",
   "metadata": {},
   "source": [
    "*Можем применить новый алгоритм на всех курьеров, так как среднее время доставки статистически значимо изменилось. Среднее время доставки в тестовой группе меньше, чем в контрольной.*"
   ]
  }
 ],
 "metadata": {
  "kernelspec": {
   "display_name": "Python 3 (ipykernel)",
   "language": "python",
   "name": "python3"
  },
  "language_info": {
   "codemirror_mode": {
    "name": "ipython",
    "version": 3
   },
   "file_extension": ".py",
   "mimetype": "text/x-python",
   "name": "python",
   "nbconvert_exporter": "python",
   "pygments_lexer": "ipython3",
   "version": "3.9.7"
  }
 },
 "nbformat": 4,
 "nbformat_minor": 5
}
